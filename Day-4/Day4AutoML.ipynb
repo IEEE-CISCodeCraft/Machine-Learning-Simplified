{
 "cells": [
  {
   "cell_type": "code",
   "execution_count": null,
   "metadata": {},
   "outputs": [],
   "source": [
    "!git clone \"https://github.com/IEEE-CISCodeCraft/Machine-Learning-Simplified.git\""
   ]
  }
 ],
 "metadata": {
  "language_info": {
   "name": "python"
  },
  "orig_nbformat": 4
 },
 "nbformat": 4,
 "nbformat_minor": 2
}
